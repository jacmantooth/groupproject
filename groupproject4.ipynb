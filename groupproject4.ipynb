{
  "nbformat": 4,
  "nbformat_minor": 0,
  "metadata": {
    "colab": {
      "name": "groupproject4.ipynb",
      "provenance": [],
      "collapsed_sections": [],
      "authorship_tag": "ABX9TyPDjuAX6A4k+GkcOZU3hrSW",
      "include_colab_link": true
    },
    "kernelspec": {
      "name": "python3",
      "display_name": "Python 3"
    }
  },
  "cells": [
    {
      "cell_type": "markdown",
      "metadata": {
        "id": "view-in-github",
        "colab_type": "text"
      },
      "source": [
        "<a href=\"https://colab.research.google.com/github/jacmantooth/groupproject/blob/main/groupproject4.ipynb\" target=\"_parent\"><img src=\"https://colab.research.google.com/assets/colab-badge.svg\" alt=\"Open In Colab\"/></a>"
      ]
    },
    {
      "cell_type": "code",
      "metadata": {
        "id": "LguhBIqltl15"
      },
      "source": [
        "import numpy as np\n",
        "import math\n",
        "\n",
        "#example Matrix that i was messing around with\n",
        "A = np.array([[5,2,3],[2,3,4]])\n",
        "# First i def swapping of rows. pick the two rows you want to swap and it swaps with \n",
        "def swap(matrix,row,row2):\n",
        "  matrix[[row, row2]] = matrix[[row2, row]]\n",
        "  return matrix\n",
        "#second i def adding rows. the first number is the row that stays the same then the second row is the one that gets row that you pick first to it. just a test!! \n",
        "def addt(matrix,row,row2):\n",
        "  matrix[[row2]]=matrix[[row]]+matrix[[row2]]\n",
        "  return matrix\n",
        "#lastly i def mult a row by a contants and adding it to a row you want to change \n",
        "def add(matrix,row2,row,contant):\n",
        "  newrow=matrix[row2,:]+contant*matrix[row,:]\n",
        "  newMatrix = []\n",
        "  for i in range(len(matrix)):\n",
        "    if i != row2:\n",
        "      newMatrix.append(matrix[i,:])\n",
        "    else:\n",
        "      newMatrix.append(newrow)\n",
        "  return np.array(newMatrix)\n",
        "# created to get leading one. row being the row you want to get the leading zero in and column being coloum of the number you want to have the leading zero\n",
        "def leadone(matrix,row,column):\n",
        "  newrow=matrix[row,:]/matrix[row,column]\n",
        "  newMatrix = []\n",
        "  for i in range(len(matrix)):\n",
        "    if i != row:\n",
        "      newMatrix.append(matrix[i,:])\n",
        "    else:\n",
        "      newMatrix.append(newrow)\n",
        "  return np.array(newMatrix)"
      ],
      "execution_count": 16,
      "outputs": []
    },
    {
      "cell_type": "code",
      "metadata": {
        "id": "DA-8AtENbbGd"
      },
      "source": [
        "def gaussJordan(matrix):\n",
        "  newMatrix = matrix\n",
        "  for pivot in range(len(matrix)):\n",
        "    newMatrix = leadone(newMatrix,pivot,pivot)\n",
        "    for column in range(0,pivot):\n",
        "      newMatrix = add(newMatrix,column,pivot,-newMatrix[column,pivot])\n",
        "    for column in range(pivot+1,len(matrix)):\n",
        "        newMatrix = add(newMatrix,column,pivot,-newMatrix[column,pivot])\n",
        "  return newMatrix"
      ],
      "execution_count": 17,
      "outputs": []
    },
    {
      "cell_type": "markdown",
      "metadata": {
        "id": "xYYNE2hwREvy"
      },
      "source": [
        "Preform the Gauss-Jordan process using these functions on a system of at least three equations and three unknowns."
      ]
    },
    {
      "cell_type": "code",
      "metadata": {
        "colab": {
          "base_uri": "https://localhost:8080/"
        },
        "id": "C3JYsWk3Oh-K",
        "outputId": "24a8c0e6-ec70-4e04-d5b0-a67b2ee0db28"
      },
      "source": [
        "B = np.array([[-5,-4,5,12],[-10,4,-6,52],[20,4,2,-100]])\n",
        "B"
      ],
      "execution_count": 94,
      "outputs": [
        {
          "output_type": "execute_result",
          "data": {
            "text/plain": [
              "array([[  -5,   -4,    5,   12],\n",
              "       [ -10,    4,   -6,   52],\n",
              "       [  20,    4,    2, -100]])"
            ]
          },
          "metadata": {
            "tags": []
          },
          "execution_count": 94
        }
      ]
    },
    {
      "cell_type": "code",
      "metadata": {
        "colab": {
          "base_uri": "https://localhost:8080/"
        },
        "id": "PEq0vIm4RJvY",
        "outputId": "3bd01af5-12f4-4147-d595-cb2ab2b65990"
      },
      "source": [
        "B=add(B,1,0,-2)\n",
        "B=add(B,2,0,4)\n",
        "B=add(B,2,1,1)\n",
        "B=leadone(B,1,1)\n",
        "B=add(B,0,1,4)\n",
        "B=leadone(B,0,0)\n",
        "B=leadone(B,2,2)\n",
        "B=add(B,1,2,-B[1,2])\n",
        "B=add(B,0,2,-B[0,2])\n",
        "B"
      ],
      "execution_count": 95,
      "outputs": [
        {
          "output_type": "execute_result",
          "data": {
            "text/plain": [
              "array([[ 1., -0.,  0., -4.],\n",
              "       [ 0.,  1.,  0., -3.],\n",
              "       [ 0.,  0.,  1., -4.]])"
            ]
          },
          "metadata": {
            "tags": []
          },
          "execution_count": 95
        }
      ]
    },
    {
      "cell_type": "code",
      "metadata": {
        "colab": {
          "base_uri": "https://localhost:8080/"
        },
        "id": "w0Cup7AcNyYs",
        "outputId": "b717158a-d959-4b41-a69e-4792d7393793"
      },
      "source": [
        "gaussJordan(B)"
      ],
      "execution_count": 24,
      "outputs": [
        {
          "output_type": "execute_result",
          "data": {
            "text/plain": [
              "array([[ 1.,  0.,  0., -4.],\n",
              "       [ 0.,  1.,  0., -3.],\n",
              "       [ 0.,  0.,  1., -4.]])"
            ]
          },
          "metadata": {
            "tags": []
          },
          "execution_count": 24
        }
      ]
    }
  ]
}