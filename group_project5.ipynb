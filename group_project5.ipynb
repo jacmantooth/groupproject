{
  "nbformat": 4,
  "nbformat_minor": 0,
  "metadata": {
    "colab": {
      "name": "group.project5",
      "provenance": [],
      "collapsed_sections": [],
      "authorship_tag": "ABX9TyN94UJgk8GiL2PFlfDCuK4W",
      "include_colab_link": true
    },
    "kernelspec": {
      "name": "python3",
      "display_name": "Python 3"
    }
  },
  "cells": [
    {
      "cell_type": "markdown",
      "metadata": {
        "id": "view-in-github",
        "colab_type": "text"
      },
      "source": [
        "<a href=\"https://colab.research.google.com/github/jacmantooth/groupproject/blob/main/group_project5.ipynb\" target=\"_parent\"><img src=\"https://colab.research.google.com/assets/colab-badge.svg\" alt=\"Open In Colab\"/></a>"
      ]
    },
    {
      "cell_type": "markdown",
      "metadata": {
        "id": "ny-huPuvZjp_"
      },
      "source": [
        "# Project Module 5: Interpolation"
      ]
    },
    {
      "cell_type": "markdown",
      "metadata": {
        "id": "KrozMFtN8SYO"
      },
      "source": [
        "## Part 1: Direct Method"
      ]
    },
    {
      "cell_type": "markdown",
      "metadata": {
        "id": "VPSolNLoZwrD"
      },
      "source": [
        "So First thing we did was import our Gauss-Jordan algorithm from Project Part 4. All we did was copy and paste From project 4 so nothing new here"
      ]
    },
    {
      "cell_type": "code",
      "metadata": {
        "id": "xe3u3tc0lW1b"
      },
      "source": [
        "import numpy as np\n",
        "import math\n",
        "import scipy.linalg as la\n",
        "\n",
        "#Example of a Matrix that I messed around with\n",
        "A = np.array([[5,2,3],[2,3,4]])\n",
        "\n",
        "\n",
        "# First I defined swapping rows. My function is first you pick the martix you want, then you pick the two rows in that martix that you want to swap.\n",
        "def swap(matrix,row,row2):\n",
        "  matrix[[row, row2]] = matrix[[row2, row]]\n",
        "  return matrix\n",
        "# Now i will define adding rows.First you want to pick your martix then, pick the two function you want to add. just testing here!\n",
        "#def test(matrix,row,row2):\n",
        "  #matrix[[row2]]=matrix[[row]]+matrix[[row2]]\n",
        "  #return matrix\n",
        "\n",
        "# I will now define multiplying a row by a contants and adding it to a row. row2 is the one you want to change and row is the row that is get multiplied by the contant. martix is just the martix that the two rows are in\n",
        "def add(matrix,row2,row,contant):\n",
        "  newrow=matrix[row2,:]+contant*matrix[row,:]\n",
        "  newMatrix = []\n",
        "  for i in range(len(matrix)):\n",
        "    if i != row2:\n",
        "      newMatrix.append(matrix[i,:])\n",
        "    else:\n",
        "      newMatrix.append(newrow)\n",
        "  return np.array(newMatrix)\n",
        "\n",
        "# Finally i will define a function to get a leading one. row is the row you want to get the leading zero in and column being coloum of the number you want to have the leading zero. say i want a a leading zero in A[1,1] you would put 1 for row one and 1 for column 1.  \n",
        "def leadone(matrix,row,column):\n",
        "  newrow=matrix[row,:]/matrix[row,column]\n",
        "  newMatrix = []\n",
        "  for i in range(len(matrix)):\n",
        "    if i != row:\n",
        "      newMatrix.append(matrix[i,:])\n",
        "    else:\n",
        "      newMatrix.append(newrow)\n",
        "  return np.array(newMatrix)\n",
        "#my gaussJordan function using functions that we created at the beganning \n",
        "def gaussJordan(matrix):\n",
        "  newMatrix = matrix\n",
        "  for pivot in range(len(matrix)):\n",
        "    newMatrix = leadone(newMatrix,pivot,pivot)\n",
        "    for column in range(0,pivot):\n",
        "      newMatrix = add(newMatrix,column,pivot,-newMatrix[column,pivot])\n",
        "    for column in range(pivot+1,len(matrix)):\n",
        "        newMatrix = add(newMatrix,column,pivot,-newMatrix[column,pivot])\n",
        "  return newMatrix"
      ],
      "execution_count": 1,
      "outputs": []
    },
    {
      "cell_type": "markdown",
      "metadata": {
        "id": "1z-4tywl82E3"
      },
      "source": [
        "Now that we have our Gauss-Jordan algorithm from Project Part 4 we can do some real work now."
      ]
    },
    {
      "cell_type": "markdown",
      "metadata": {
        "id": "eDhBk2c09CZE"
      },
      "source": [
        "We will now apply the direct interpolation method to create a polynomial going through at least five unique points on your function f from Project Part 1. Our function f from part one was \n",
        "$$\n",
        "f(x) = Cos(x)\n",
        "$$"
      ]
    },
    {
      "cell_type": "markdown",
      "metadata": {
        "id": "s_wB9xnk-IGu"
      },
      "source": [
        "We will now creat our Direct method function.\n",
        "To solve the direct method interpolation, we simply as that for $n+1$ points, we create an $n$ order polynomial that goes through those points.  So we are looking for a function, $f(x)$ in the form,\n",
        "$$\n",
        "f(x) = a_0+a_1x+a_2x^2+\\cdots + a_n x^n\n",
        "$$\n",
        "\n",
        "If we are given a points $(x_0,y_0)$ we ask that \n",
        "$$\n",
        "a_0+a_1x_0+a_2 x_0^2+\\cdots +a_n x_0^n = y_0\n",
        "$$\n",
        "\n",
        "So we need to find a family of $a_i$'s that solve that equation, that actually solve the system \n",
        "\n",
        "$$\n",
        "\\left[\n",
        "\\begin{array}{ccccc|c}\n",
        "1&x_0&x_0^2&\\cdots&x_0^n&y_0\\\\\n",
        "\\vdots&&\\ddots&&\\vdots\\\\\n",
        "1&x_{n-1}&x_{n-1}^2&\\dots& x_{n-1}^n&y_{n-1}\n",
        "\\end{array}\n",
        "\\right]\n",
        "$$"
      ]
    },
    {
      "cell_type": "code",
      "metadata": {
        "id": "TCvT_p9TZ-IW"
      },
      "source": [
        "# Here we created a function to creat a row using the Direct method for n+1 elements. with x being the input, y being the out put and n being the Order Of Polynomial\n",
        "def createRow(x,y,n):\n",
        "  array = []\n",
        "  for i in range(n+1):\n",
        "    array.append(x**i)\n",
        "  array.append(y)\n",
        "  return array"
      ],
      "execution_count": 2,
      "outputs": []
    },
    {
      "cell_type": "markdown",
      "metadata": {
        "id": "fRO7lyAo-7NP"
      },
      "source": [
        "Here is an example of what the function does. we will use this function later on "
      ]
    },
    {
      "cell_type": "code",
      "metadata": {
        "colab": {
          "base_uri": "https://localhost:8080/"
        },
        "id": "fxumYWfkd9X2",
        "outputId": "4b34b406-bfa5-4b1b-c131-90142226cf0a"
      },
      "source": [
        "createRow(4,10,5)"
      ],
      "execution_count": 3,
      "outputs": [
        {
          "output_type": "execute_result",
          "data": {
            "text/plain": [
              "[1, 4, 16, 64, 256, 1024, 10]"
            ]
          },
          "metadata": {
            "tags": []
          },
          "execution_count": 3
        }
      ]
    },
    {
      "cell_type": "markdown",
      "metadata": {
        "id": "olfOfa7E_KZx"
      },
      "source": [
        "we will now load in our five unique points. we will call our five unique points data "
      ]
    },
    {
      "cell_type": "code",
      "metadata": {
        "colab": {
          "base_uri": "https://localhost:8080/"
        },
        "id": "PZWVGHTXdTy8",
        "outputId": "35ec57fa-d428-4bf9-f0d0-20448ad3b0bc"
      },
      "source": [
        "data =[[3,8],[5,9],[1,1],[7,10],[2,5]]\n",
        "data"
      ],
      "execution_count": 4,
      "outputs": [
        {
          "output_type": "execute_result",
          "data": {
            "text/plain": [
              "[[3, 8], [5, 9], [1, 1], [7, 10], [2, 5]]"
            ]
          },
          "metadata": {
            "tags": []
          },
          "execution_count": 4
        }
      ]
    },
    {
      "cell_type": "markdown",
      "metadata": {
        "id": "ClXCjL-4_W-q"
      },
      "source": [
        "We will now create a function that creates a Matrix. this function will be using our createRow function that we created above."
      ]
    },
    {
      "cell_type": "code",
      "metadata": {
        "id": "xb1yjVNZbRTK"
      },
      "source": [
        "#here i just running our data through a for loop, with the order being the length of the data -1. we use our createRow function to creat each row then we appending it to the matrix \n",
        "def createMatrix(data):\n",
        "  matrix = []\n",
        "  order = len(data)-1\n",
        "  for i in range(len(data)):\n",
        "    matrix.append(createRow(data[i][0],data[i][1],order))\n",
        "  return np.array(matrix)\n"
      ],
      "execution_count": 5,
      "outputs": []
    },
    {
      "cell_type": "markdown",
      "metadata": {
        "id": "QUTbYh1qAW1N"
      },
      "source": [
        "Here is an example of how it works using our five unique points "
      ]
    },
    {
      "cell_type": "code",
      "metadata": {
        "colab": {
          "base_uri": "https://localhost:8080/"
        },
        "id": "BZKw1HAkdZNz",
        "outputId": "fd0c32f3-8c30-4098-c0b1-e12ae29cf309"
      },
      "source": [
        "createMatrix(data)"
      ],
      "execution_count": 6,
      "outputs": [
        {
          "output_type": "execute_result",
          "data": {
            "text/plain": [
              "array([[   1,    3,    9,   27,   81,    8],\n",
              "       [   1,    5,   25,  125,  625,    9],\n",
              "       [   1,    1,    1,    1,    1,    1],\n",
              "       [   1,    7,   49,  343, 2401,   10],\n",
              "       [   1,    2,    4,    8,   16,    5]])"
            ]
          },
          "metadata": {
            "tags": []
          },
          "execution_count": 6
        }
      ]
    },
    {
      "cell_type": "markdown",
      "metadata": {
        "id": "6TI9iCjDBBED"
      },
      "source": [
        "here i will be creating our polynomial using our gauess Jordan finction and our creat Matrix function "
      ]
    },
    {
      "cell_type": "code",
      "metadata": {
        "colab": {
          "base_uri": "https://localhost:8080/",
          "height": 37
        },
        "id": "DlIidVq9efuq",
        "outputId": "a38892de-c1e4-4426-ae7e-a40129fd8a97"
      },
      "source": [
        "x=gaussJordan(createMatrix(data))[:,-1]\n",
        "string = ''\n",
        "for i in range(len(x)):\n",
        "  coef = gaussJordan(createMatrix(data))[i,-1]\n",
        "  if coef >=0:\n",
        "    coef='+{}'.format(coef)\n",
        "  if i > 1:\n",
        "    i=r'x^{}'.format(i)\n",
        "  if i ==1:\n",
        "    i=r'x'.format(i)\n",
        "  string = string + '{}'.format(coef) + r'{}'.format(i)\n",
        "\n",
        "string\n",
        "#made it better but i cant get rid of that leading +, got lazy and didnt want to figure it out since in our case we didnt need it ahahaha\n",
        "# here i basically ran it through a for loop and added if statements. if the coef was >=0 ,postive, i wanted it to add a + to it. the second if function is \n",
        "#if i was >1 aka x^2 then i wanted to run it through 'x^{}' while if i was equal to 1 i wanted it to just have x and else is nothing ."
      ],
      "execution_count": 7,
      "outputs": [
        {
          "output_type": "execute_result",
          "data": {
            "application/vnd.google.colaboratory.intrinsic+json": {
              "type": "string"
            },
            "text/plain": [
              "'-2.250+2.041666666666667x+1.708333333333333x^2-0.5416666666666666x^3+0.041666666666666664x^4'"
            ]
          },
          "metadata": {
            "tags": []
          },
          "execution_count": 7
        }
      ]
    },
    {
      "cell_type": "markdown",
      "metadata": {
        "id": "jxFyCPGoCBtQ"
      },
      "source": [
        "As you can see our polynomial is \n",
        "$$\n",
        "f(x) = -2.250+2.041666666666667x+1.708333333333333x^2-0.5416666666666666x^3+0.041666666666666664x^4\n",
        "$$\n"
      ]
    },
    {
      "cell_type": "markdown",
      "metadata": {
        "id": "J1GfCz6jLQEv"
      },
      "source": [
        "we will now Graph the polynomial that we have created along with our points and our original function.\n"
      ]
    },
    {
      "cell_type": "code",
      "metadata": {
        "id": "-EEgSFk5pN9r"
      },
      "source": [
        "def directSpline(data, variable):\n",
        "  coefficients = gaussJordan(createMatrix(data))[:,-1]\n",
        "  value = 0\n",
        "  for i in range(len(coefficients)):\n",
        "    value = value + coefficients[i]*variable**i\n",
        "  return value\n",
        "#we will use this function to get an estimate of a point using our points "
      ],
      "execution_count": 8,
      "outputs": []
    },
    {
      "cell_type": "code",
      "metadata": {
        "colab": {
          "base_uri": "https://localhost:8080/"
        },
        "id": "Goxy_miApfFq",
        "outputId": "c81690a8-783e-42c5-edbd-3e446dae4e62"
      },
      "source": [
        "directSpline(data,2)"
      ],
      "execution_count": 9,
      "outputs": [
        {
          "output_type": "execute_result",
          "data": {
            "text/plain": [
              "5.0"
            ]
          },
          "metadata": {
            "tags": []
          },
          "execution_count": 9
        }
      ]
    },
    {
      "cell_type": "markdown",
      "metadata": {
        "id": "0qMhbXEWMB5u"
      },
      "source": [
        "Here we will produce our graph and show our equation "
      ]
    },
    {
      "cell_type": "code",
      "metadata": {
        "colab": {
          "base_uri": "https://localhost:8080/",
          "height": 281
        },
        "id": "ciO-ZR6Cponm",
        "outputId": "537affd4-3b1b-481e-ef58-47fe49bc35c8"
      },
      "source": [
        "import matplotlib.pyplot as plt\n",
        "import numpy as np\n",
        "x = np.arange( 0,10,.1)\n",
        "equation = 'y = ' + string\n",
        "plt.scatter(np.array(data)[:,0],np.array(data)[:,1])\n",
        "#produces our five dots on the graph \n",
        "plt.plot(x,directSpline(data,x), 'r', label= equation)\n",
        "#our equation \n",
        "plt.plot(x, np.cos(x), 'b',label='y=sin(x)')\n",
        "#OG function\n",
        "plt.title('Graph of Direct Spline')\n",
        "\n",
        "\n",
        "plt.legend(loc='upper left',bbox_to_anchor=(1.05, 1))\n",
        "\n",
        "plt.show()"
      ],
      "execution_count": 10,
      "outputs": [
        {
          "output_type": "display_data",
          "data": {
            "image/png": "[encoded data removed]",
            "text/plain": [
              "<Figure size 432x288 with 1 Axes>"
            ]
          },
          "metadata": {
            "tags": [],
            "needs_background": "light"
          }
        }
      ]
    },
    {
      "cell_type": "markdown",
      "metadata": {
        "id": "3FrAeBb-MJ3M"
      },
      "source": [
        "##Part 2: Linear Splines"
      ]
    },
    {
      "cell_type": "markdown",
      "metadata": {
        "id": "fzyIElMgMaJp"
      },
      "source": [
        "My function that I have been considering was $f(x) = \\cos x$.  I am going to examine the first wave, the interval between $[0,2\\pi]$."
      ]
    },
    {
      "cell_type": "markdown",
      "metadata": {
        "id": "Zr0Pw7O6NUTM"
      },
      "source": [
        "First we want to creat a function that gives us our six points so we can do linear splines on "
      ]
    },
    {
      "cell_type": "markdown",
      "metadata": {
        "id": "9fDxstIR3QDU"
      },
      "source": [
        "we will now create an algorithm for a linear spline."
      ]
    },
    {
      "cell_type": "code",
      "metadata": {
        "id": "CuTLt0E9p3g9"
      },
      "source": [
        "# Here im def a function that you give it the function the lower number and the upper number that you want to connect and it divdes it for you by how many divisions you want \n",
        "def divideInterval(function,lower,upper,Divisions):\n",
        "  deltax = (upper - lower)/(Divisions - 1)\n",
        "  array = []\n",
        "  for i in range(Divisions):\n",
        "    array.append([lower + i*deltax,function(lower + i*deltax)])\n",
        "  return np.array(array)\n",
        "\n",
        "sixpoints = divideInterval(np.cos,0,2*np.pi,6)"
      ],
      "execution_count": 17,
      "outputs": []
    },
    {
      "cell_type": "code",
      "metadata": {
        "id": "uazgbmjT0G31"
      },
      "source": [
        "def slope(pointInitial,pointFinal):\n",
        "  return (pointFinal[1]-pointInitial[1])/(pointFinal[0]-pointInitial[0])\n",
        "# we will use this to get the slope of two points "
      ],
      "execution_count": 15,
      "outputs": []
    },
    {
      "cell_type": "code",
      "metadata": {
        "id": "qcdmpKQdqoyT"
      },
      "source": [
        "#now i will def linerspline using for loops \n",
        "def linerSpline(array,input):\n",
        "  x = array[:,0]\n",
        "  y = array[:,1]\n",
        "  for i in range(len(x)-1):\n",
        "    if (x[i]< input) & (input < x[i+1]):\n",
        "      return y[i]+ slope(array[i,:],array[i+1,:])*(input - x[i])\n",
        "    else:\n",
        "      continue\n",
        "#this is how we will get our estimate "
      ],
      "execution_count": 16,
      "outputs": []
    },
    {
      "cell_type": "markdown",
      "metadata": {
        "id": "Neva75983uoS"
      },
      "source": [
        "we will now use our spline algorithm to estimate your function f on an interval utilizing our six points"
      ]
    },
    {
      "cell_type": "code",
      "metadata": {
        "colab": {
          "base_uri": "https://localhost:8080/"
        },
        "id": "NA0GDV7IqssL",
        "outputId": "5ebc3f5d-20f0-465c-9a32-2ca61b8c1ab8"
      },
      "source": [
        "linerSpline(sixpoints,3)"
      ],
      "execution_count": 24,
      "outputs": [
        {
          "output_type": "execute_result",
          "data": {
            "text/plain": [
              "-0.8090169943749475"
            ]
          },
          "metadata": {
            "tags": []
          },
          "execution_count": 24
        }
      ]
    },
    {
      "cell_type": "markdown",
      "metadata": {
        "id": "gzuLWLBA4U_E"
      },
      "source": [
        "the point 3 is estimated to be -0.8090169943749475"
      ]
    },
    {
      "cell_type": "code",
      "metadata": {
        "id": "7qfwEtbWqzuo"
      },
      "source": [
        "x = np.arange(0,7,0.1)\n",
        "y = [linerSpline(sixpoints,x) for x in x]"
      ],
      "execution_count": 19,
      "outputs": []
    },
    {
      "cell_type": "markdown",
      "metadata": {
        "id": "6ToZDlHLPz9l"
      },
      "source": [
        "We will now produce our graph using our six points "
      ]
    },
    {
      "cell_type": "code",
      "metadata": {
        "colab": {
          "base_uri": "https://localhost:8080/",
          "height": 281
        },
        "id": "pEE2AuVLq5sE",
        "outputId": "62031cef-301c-4ba6-dd12-68004d6c9fca"
      },
      "source": [
        "x = np.arange(0,7,0.1)\n",
        "\n",
        "plt.scatter(sixpoints[:,0],sixpoints[:,1])\n",
        "plt.plot(x,y)\n",
        "plt.plot(x, np.cos(x))\n",
        "plt.title('Graph of Linear Spline with 6 Points')\n",
        "plt.legend(['Spline','Cos(x)'])\n",
        "\n",
        "\n",
        "plt.show()"
      ],
      "execution_count": 20,
      "outputs": [
        {
          "output_type": "display_data",
          "data": {
            "image/png": "[encoded data removed]",
            "text/plain": [
              "<Figure size 432x288 with 1 Axes>"
            ]
          },
          "metadata": {
            "tags": [],
            "needs_background": "light"
          }
        }
      ]
    },
    {
      "cell_type": "markdown",
      "metadata": {
        "id": "ZK1RC_bkP5zR"
      },
      "source": [
        "We will now use our function for twetyfive points "
      ]
    },
    {
      "cell_type": "code",
      "metadata": {
        "colab": {
          "base_uri": "https://localhost:8080/",
          "height": 281
        },
        "id": "EkeoX_KbrDW6",
        "outputId": "6cfb9365-d08e-4928-d534-95821c89d95f"
      },
      "source": [
        "twentyfivepoints = divideInterval(np.cos,0,2*np.pi,25)\n",
        "x = np.arange(-1,7,0.1)\n",
        "y = [linerSpline(twentyfivepoints,x) for x in x]\n",
        "plt.scatter(twentyfivepoints[:,0],twentyfivepoints[:,1])\n",
        "plt.plot(x,y)\n",
        "plt.plot(x, np.cos(x))\n",
        "plt.title('Graph of Linear Spline with 20 Points')\n",
        "plt.legend(['Spline','Cos(x)'])\n",
        "\n",
        "\n",
        "plt.show()"
      ],
      "execution_count": 21,
      "outputs": [
        {
          "output_type": "display_data",
          "data": {
            "image/png": "[encoded data removed]",
            "text/plain": [
              "<Figure size 432x288 with 1 Axes>"
            ]
          },
          "metadata": {
            "tags": [],
            "needs_background": "light"
          }
        }
      ]
    },
    {
      "cell_type": "markdown",
      "metadata": {
        "id": "VsIhZHSO4csY"
      },
      "source": [
        "Finally we will use our spline algorithm to estimate your function f on an interval utilizing our twentyfive points"
      ]
    },
    {
      "cell_type": "code",
      "metadata": {
        "colab": {
          "base_uri": "https://localhost:8080/"
        },
        "id": "r_kISgWq4AOL",
        "outputId": "5b5cdeb6-f9f8-444d-92f6-ecdc9ff01d19"
      },
      "source": [
        "linerSpline(twentyfivepoints,3)"
      ],
      "execution_count": 23,
      "outputs": [
        {
          "output_type": "execute_result",
          "data": {
            "text/plain": [
              "-0.9815711842752213"
            ]
          },
          "metadata": {
            "tags": []
          },
          "execution_count": 23
        }
      ]
    },
    {
      "cell_type": "markdown",
      "metadata": {
        "id": "SwD8ooKP4qmd"
      },
      "source": [
        "the point 3 is estimated to be -0.9815711842752213"
      ]
    }
  ]
}