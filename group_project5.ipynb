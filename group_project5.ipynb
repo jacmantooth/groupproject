{
  "nbformat": 4,
  "nbformat_minor": 0,
  "metadata": {
    "colab": {
      "name": "group.project5",
      "provenance": [],
      "collapsed_sections": [],
      "authorship_tag": "ABX9TyNTfkLFRowiJ7OuhzHJPjNe",
      "include_colab_link": true
    },
    "kernelspec": {
      "name": "python3",
      "display_name": "Python 3"
    }
  },
  "cells": [
    {
      "cell_type": "markdown",
      "metadata": {
        "id": "view-in-github",
        "colab_type": "text"
      },
      "source": [
        "<a href=\"https://colab.research.google.com/github/jacmantooth/groupproject/blob/main/group_project5.ipynb\" target=\"_parent\"><img src=\"https://colab.research.google.com/assets/colab-badge.svg\" alt=\"Open In Colab\"/></a>"
      ]
    },
    {
      "cell_type": "markdown",
      "metadata": {
        "id": "ny-huPuvZjp_"
      },
      "source": [
        "# Group Project 5"
      ]
    },
    {
      "cell_type": "markdown",
      "metadata": {
        "id": "VPSolNLoZwrD"
      },
      "source": [
        "First i imported my code from group project 4. so we can use the gauss jordan method later on "
      ]
    },
    {
      "cell_type": "code",
      "metadata": {
        "id": "xe3u3tc0lW1b"
      },
      "source": [
        "import numpy as np\n",
        "import math\n",
        "import scipy.linalg as la\n",
        "\n",
        "#Example of a Matrix that I messed around with\n",
        "A = np.array([[5,2,3],[2,3,4]])\n",
        "\n",
        "\n",
        "# First I defined swapping rows. My function is first you pick the martix you want, then you pick the two rows in that martix that you want to swap.\n",
        "def swap(matrix,row,row2):\n",
        "  matrix[[row, row2]] = matrix[[row2, row]]\n",
        "  return matrix\n",
        "# Now i will define adding rows.First you want to pick your martix then, pick the two function you want to add. just testing here!\n",
        "#def test(matrix,row,row2):\n",
        "  #matrix[[row2]]=matrix[[row]]+matrix[[row2]]\n",
        "  #return matrix\n",
        "\n",
        "# I will now define multiplying a row by a contants and adding it to a row. row2 is the one you want to change and row is the row that is get multiplied by the contant. martix is just the martix that the two rows are in\n",
        "def add(matrix,row2,row,contant):\n",
        "  newrow=matrix[row2,:]+contant*matrix[row,:]\n",
        "  newMatrix = []\n",
        "  for i in range(len(matrix)):\n",
        "    if i != row2:\n",
        "      newMatrix.append(matrix[i,:])\n",
        "    else:\n",
        "      newMatrix.append(newrow)\n",
        "  return np.array(newMatrix)\n",
        "\n",
        "# Finally i will define a function to get a leading one. row is the row you want to get the leading zero in and column being coloum of the number you want to have the leading zero. say i want a a leading zero in A[1,1] you would put 1 for row one and 1 for column 1.  \n",
        "def leadone(matrix,row,column):\n",
        "  newrow=matrix[row,:]/matrix[row,column]\n",
        "  newMatrix = []\n",
        "  for i in range(len(matrix)):\n",
        "    if i != row:\n",
        "      newMatrix.append(matrix[i,:])\n",
        "    else:\n",
        "      newMatrix.append(newrow)\n",
        "  return np.array(newMatrix)\n",
        "  #my gaussJordan function using functions that we created at the beganning \n",
        "def gaussJordan(matrix):\n",
        "  newMatrix = matrix\n",
        "  for pivot in range(len(matrix)):\n",
        "    newMatrix = leadone(newMatrix,pivot,pivot)\n",
        "    for column in range(0,pivot):\n",
        "      newMatrix = add(newMatrix,column,pivot,-newMatrix[column,pivot])\n",
        "    for column in range(pivot+1,len(matrix)):\n",
        "        newMatrix = add(newMatrix,column,pivot,-newMatrix[column,pivot])\n",
        "  return newMatrix"
      ],
      "execution_count": 1,
      "outputs": []
    },
    {
      "cell_type": "markdown",
      "metadata": {
        "id": "AHRJdu94aIB2"
      },
      "source": [
        "# Direct Method "
      ]
    },
    {
      "cell_type": "code",
      "metadata": {
        "id": "TCvT_p9TZ-IW"
      },
      "source": [
        "def createRow(x,y,n):\n",
        "  array = []\n",
        "  for i in range(n):\n",
        "    array.append(x**i)\n",
        "  array.append(y)\n",
        "  return array"
      ],
      "execution_count": 61,
      "outputs": []
    },
    {
      "cell_type": "code",
      "metadata": {
        "colab": {
          "base_uri": "https://localhost:8080/"
        },
        "id": "fxumYWfkd9X2",
        "outputId": "07243323-46d5-4f2d-a981-d00ce1e94a17"
      },
      "source": [
        "createRow(2,5,4)"
      ],
      "execution_count": 52,
      "outputs": [
        {
          "output_type": "execute_result",
          "data": {
            "text/plain": [
              "[1, 2, 4, 8, 5]"
            ]
          },
          "metadata": {
            "tags": []
          },
          "execution_count": 52
        }
      ]
    },
    {
      "cell_type": "code",
      "metadata": {
        "colab": {
          "base_uri": "https://localhost:8080/"
        },
        "id": "PZWVGHTXdTy8",
        "outputId": "aa5955fa-e1f0-4b3d-b01e-f64193b3ca62"
      },
      "source": [
        "data =[[2,5],[1,6],[3,7],[8,1]]\n",
        "data"
      ],
      "execution_count": 53,
      "outputs": [
        {
          "output_type": "execute_result",
          "data": {
            "text/plain": [
              "[[2, 5], [1, 6], [3, 7], [8, 1]]"
            ]
          },
          "metadata": {
            "tags": []
          },
          "execution_count": 53
        }
      ]
    },
    {
      "cell_type": "code",
      "metadata": {
        "id": "xb1yjVNZbRTK"
      },
      "source": [
        "def createMatrix(data):\n",
        "  matrix = []\n",
        "  order = len(data)\n",
        "  for i in range(len(data)):\n",
        "    matrix.append(createRow(data[i][0],data[i][1],order))\n",
        "  return np.array(matrix)\n"
      ],
      "execution_count": 62,
      "outputs": []
    },
    {
      "cell_type": "code",
      "metadata": {
        "colab": {
          "base_uri": "https://localhost:8080/"
        },
        "id": "BZKw1HAkdZNz",
        "outputId": "4208f6d6-727c-47cf-e5bc-2884b499eb17"
      },
      "source": [
        "createMatrix(data)"
      ],
      "execution_count": 60,
      "outputs": [
        {
          "output_type": "execute_result",
          "data": {
            "text/plain": [
              "array([[  1,   2,   4,   8,   5],\n",
              "       [  1,   1,   1,   1,   6],\n",
              "       [  1,   3,   9,  27,   7],\n",
              "       [  1,   8,  64, 512,   1]])"
            ]
          },
          "metadata": {
            "tags": []
          },
          "execution_count": 60
        }
      ]
    },
    {
      "cell_type": "code",
      "metadata": {
        "colab": {
          "base_uri": "https://localhost:8080/"
        },
        "id": "p6Cs0rFXfV5z",
        "outputId": "e58e1295-cd50-4a80-b1cf-25e1831d1f27"
      },
      "source": [
        "gaussJordan(createMatrix(data))[:,-1]"
      ],
      "execution_count": 181,
      "outputs": [
        {
          "output_type": "execute_result",
          "data": {
            "text/plain": [
              "array([11.74285714, -8.6952381 ,  3.24285714, -0.29047619])"
            ]
          },
          "metadata": {
            "tags": []
          },
          "execution_count": 181
        }
      ]
    },
    {
      "cell_type": "code",
      "metadata": {
        "colab": {
          "base_uri": "https://localhost:8080/",
          "height": 37
        },
        "id": "DlIidVq9efuq",
        "outputId": "a677fafc-d719-4a26-f8f6-385a0f6fd923"
      },
      "source": [
        "x=gaussJordan(createMatrix(data))[:,-1]\n",
        "string = ''\n",
        "for i in range(len(x)):\n",
        "  coef = gaussJordan(createMatrix(data))[i,-1]\n",
        "  if coef >=0:\n",
        "    coef='+{}'.format(coef)\n",
        "  if i > 1:\n",
        "    i=r'x^{}'.format(i)\n",
        "  if i ==1:\n",
        "    i=r'x'.format(i)\n",
        "  string = string + '{}'.format(coef) + r'{}'.format(i)\n",
        "\n",
        "string\n",
        "#made it better but i cant get rid of that leading +"
      ],
      "execution_count": 182,
      "outputs": [
        {
          "output_type": "execute_result",
          "data": {
            "application/vnd.google.colaboratory.intrinsic+json": {
              "type": "string"
            },
            "text/plain": [
              "'+11.7428571428571440-8.695238095238096x+3.242857142857143x^2-0.2904761904761905x^3'"
            ]
          },
          "metadata": {
            "tags": []
          },
          "execution_count": 182
        }
      ]
    },
    {
      "cell_type": "code",
      "metadata": {
        "id": "-EEgSFk5pN9r"
      },
      "source": [
        "def directSpline(data, variable):\n",
        "  coefficients = gaussJordan(createMatrix(data))[:,-1]\n",
        "  value = 0\n",
        "  for i in range(len(coefficients)):\n",
        "    value = value + coefficients[i]*variable**i\n",
        "  return value"
      ],
      "execution_count": 186,
      "outputs": []
    },
    {
      "cell_type": "code",
      "metadata": {
        "colab": {
          "base_uri": "https://localhost:8080/"
        },
        "id": "Goxy_miApfFq",
        "outputId": "a9cd0e06-4295-4efd-906e-fa036e8f3926"
      },
      "source": [
        "directSpline(data,2)"
      ],
      "execution_count": 187,
      "outputs": [
        {
          "output_type": "execute_result",
          "data": {
            "text/plain": [
              "4.999999999999998"
            ]
          },
          "metadata": {
            "tags": []
          },
          "execution_count": 187
        }
      ]
    },
    {
      "cell_type": "code",
      "metadata": {
        "colab": {
          "base_uri": "https://localhost:8080/",
          "height": 281
        },
        "id": "ciO-ZR6Cponm",
        "outputId": "3b7c8e2c-d7de-48bb-9429-f0676f0dffac"
      },
      "source": [
        "import matplotlib.pyplot as plt\n",
        "\n",
        "\n",
        "x = np.arange( 0,10,.1)\n",
        "plt.scatter(np.array(data)[:,0],np.array(data)[:,1])\n",
        "plt.plot(x,directSpline(data,x))\n",
        "plt.plot(x, np.cos(x))\n",
        "plt.title('Graph of Direct Spline')\n",
        "\n",
        "\n",
        "plt.show()"
      ],
      "execution_count": 190,
      "outputs": [
        {
          "output_type": "display_data",
          "data": {
            "image/png": "[encoded data removed]",
            "text/plain": [
              "<Figure size 432x288 with 1 Axes>"
            ]
          },
          "metadata": {
            "tags": [],
            "needs_background": "light"
          }
        }
      ]
    },
    {
      "cell_type": "code",
      "metadata": {
        "id": "CuTLt0E9p3g9"
      },
      "source": [
        "def divideIntervalEvenly(function,lower,upper,numberOfDivisions):\n",
        "  deltax = (upper - lower)/(numberOfDivisions - 1)\n",
        "  array = []\n",
        "  for i in range(numberOfDivisions):\n",
        "    array.append([lower + i*deltax,function(lower + i*deltax)])\n",
        "  return np.array(array)\n",
        "\n",
        "fivepoints = divideIntervalEvenly(np.cos,0,2*np.pi,5)"
      ],
      "execution_count": 195,
      "outputs": []
    },
    {
      "cell_type": "code",
      "metadata": {
        "id": "m2M-i24Kqnwl"
      },
      "source": [
        "def slope(pointInitial,pointFinal):\n",
        "  return (pointFinal[1]-pointInitial[1])/(pointFinal[0]-pointInitial[0])"
      ],
      "execution_count": 196,
      "outputs": []
    },
    {
      "cell_type": "code",
      "metadata": {
        "id": "qcdmpKQdqoyT"
      },
      "source": [
        "def linerSpline(array,input):\n",
        "  x = array[:,0]\n",
        "  y = array[:,1]\n",
        "  for i in range(len(x)-1):\n",
        "    if (x[i]< input) & (input < x[i+1]):\n",
        "      return y[i]+ slope(array[i,:],array[i+1,:])*(input - x[i])\n",
        "    else:\n",
        "      continue"
      ],
      "execution_count": 197,
      "outputs": []
    },
    {
      "cell_type": "code",
      "metadata": {
        "colab": {
          "base_uri": "https://localhost:8080/"
        },
        "id": "NA0GDV7IqssL",
        "outputId": "b10d9220-7c7e-4bb7-b742-17d4b3b9c1bf"
      },
      "source": [
        "linerSpline(fivepoints,1)"
      ],
      "execution_count": 198,
      "outputs": [
        {
          "output_type": "execute_result",
          "data": {
            "text/plain": [
              "0.36338022763241873"
            ]
          },
          "metadata": {
            "tags": []
          },
          "execution_count": 198
        }
      ]
    },
    {
      "cell_type": "code",
      "metadata": {
        "id": "7qfwEtbWqzuo"
      },
      "source": [
        "x = np.arange(0,7,0.1)\n",
        "y = [linerSpline(fivepoints,x) for x in x]"
      ],
      "execution_count": 202,
      "outputs": []
    },
    {
      "cell_type": "code",
      "metadata": {
        "colab": {
          "base_uri": "https://localhost:8080/",
          "height": 281
        },
        "id": "pEE2AuVLq5sE",
        "outputId": "1f6f3a7f-e67b-4bae-844f-a50b4e8cf39a"
      },
      "source": [
        "x = np.arange(0,7,0.1)\n",
        "\n",
        "plt.scatter(fivepoints[:,0],fivepoints[:,1])\n",
        "plt.plot(x,y)\n",
        "plt.plot(x, np.cos(x))\n",
        "plt.title('Graph of Linear Spline with 5 Points')\n",
        "plt.legend(['Spline','Cos'])\n",
        "\n",
        "\n",
        "plt.show()"
      ],
      "execution_count": 205,
      "outputs": [
        {
          "output_type": "display_data",
          "data": {
            "image/png": "[encoded data removed]",
            "text/plain": [
              "<Figure size 432x288 with 1 Axes>"
            ]
          },
          "metadata": {
            "tags": [],
            "needs_background": "light"
          }
        }
      ]
    },
    {
      "cell_type": "code",
      "metadata": {
        "colab": {
          "base_uri": "https://localhost:8080/",
          "height": 281
        },
        "id": "EkeoX_KbrDW6",
        "outputId": "c0bf4bdd-2973-4dfb-8922-5aeca844d901"
      },
      "source": [
        "twentypoints = divideIntervalEvenly(np.cos,0,2*np.pi,20)\n",
        "x = np.arange(-1,7,0.1)\n",
        "y = [linerSpline(twentypoints,x) for x in x]\n",
        "plt.scatter(twentypoints[:,0],twentypoints[:,1])\n",
        "plt.plot(x,y)\n",
        "plt.plot(x, np.cos(x))\n",
        "plt.title('Graph of Linear Spline with 20 Points')\n",
        "plt.legend(['Spline','Cos'])\n",
        "\n",
        "\n",
        "plt.show()"
      ],
      "execution_count": 207,
      "outputs": [
        {
          "output_type": "display_data",
          "data": {
            "image/png": "[encoded data removed]",
            "text/plain": [
              "<Figure size 432x288 with 1 Axes>"
            ]
          },
          "metadata": {
            "tags": [],
            "needs_background": "light"
          }
        }
      ]
    }
  ]
}