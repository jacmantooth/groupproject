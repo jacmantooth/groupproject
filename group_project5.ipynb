{
  "nbformat": 4,
  "nbformat_minor": 0,
  "metadata": {
    "colab": {
      "name": "group.project5",
      "provenance": [],
      "collapsed_sections": [],
      "authorship_tag": "ABX9TyOwdkYZcbIBc6lTjhwW3B7u",
      "include_colab_link": true
    },
    "kernelspec": {
      "name": "python3",
      "display_name": "Python 3"
    }
  },
  "cells": [
    {
      "cell_type": "markdown",
      "metadata": {
        "id": "view-in-github",
        "colab_type": "text"
      },
      "source": [
        "<a href=\"https://colab.research.google.com/github/jacmantooth/groupproject/blob/main/group_project5.ipynb\" target=\"_parent\"><img src=\"https://colab.research.google.com/assets/colab-badge.svg\" alt=\"Open In Colab\"/></a>"
      ]
    },
    {
      "cell_type": "markdown",
      "metadata": {
        "id": "ny-huPuvZjp_"
      },
      "source": [
        "# Group Project 5"
      ]
    },
    {
      "cell_type": "markdown",
      "metadata": {
        "id": "VPSolNLoZwrD"
      },
      "source": [
        "First i imported my code from group project 4. so we can use the gauss jordan method later on "
      ]
    },
    {
      "cell_type": "code",
      "metadata": {
        "id": "xe3u3tc0lW1b"
      },
      "source": [
        "import numpy as np\n",
        "import math\n",
        "import scipy.linalg as la\n",
        "\n",
        "#Example of a Matrix that I messed around with\n",
        "A = np.array([[5,2,3],[2,3,4]])\n",
        "\n",
        "\n",
        "# First I defined swapping rows. My function is first you pick the martix you want, then you pick the two rows in that martix that you want to swap.\n",
        "def swap(matrix,row,row2):\n",
        "  matrix[[row, row2]] = matrix[[row2, row]]\n",
        "  return matrix\n",
        "# Now i will define adding rows.First you want to pick your martix then, pick the two function you want to add. just testing here!\n",
        "#def test(matrix,row,row2):\n",
        "  #matrix[[row2]]=matrix[[row]]+matrix[[row2]]\n",
        "  #return matrix\n",
        "\n",
        "# I will now define multiplying a row by a contants and adding it to a row. row2 is the one you want to change and row is the row that is get multiplied by the contant. martix is just the martix that the two rows are in\n",
        "def add(matrix,row2,row,contant):\n",
        "  newrow=matrix[row2,:]+contant*matrix[row,:]\n",
        "  newMatrix = []\n",
        "  for i in range(len(matrix)):\n",
        "    if i != row2:\n",
        "      newMatrix.append(matrix[i,:])\n",
        "    else:\n",
        "      newMatrix.append(newrow)\n",
        "  return np.array(newMatrix)\n",
        "\n",
        "# Finally i will define a function to get a leading one. row is the row you want to get the leading zero in and column being coloum of the number you want to have the leading zero. say i want a a leading zero in A[1,1] you would put 1 for row one and 1 for column 1.  \n",
        "def leadone(matrix,row,column):\n",
        "  newrow=matrix[row,:]/matrix[row,column]\n",
        "  newMatrix = []\n",
        "  for i in range(len(matrix)):\n",
        "    if i != row:\n",
        "      newMatrix.append(matrix[i,:])\n",
        "    else:\n",
        "      newMatrix.append(newrow)\n",
        "  return np.array(newMatrix)\n",
        "  #my gaussJordan function using functions that we created at the beganning \n",
        "def gaussJordan(matrix):\n",
        "  newMatrix = matrix\n",
        "  for pivot in range(len(matrix)):\n",
        "    newMatrix = leadone(newMatrix,pivot,pivot)\n",
        "    for column in range(0,pivot):\n",
        "      newMatrix = add(newMatrix,column,pivot,-newMatrix[column,pivot])\n",
        "    for column in range(pivot+1,len(matrix)):\n",
        "        newMatrix = add(newMatrix,column,pivot,-newMatrix[column,pivot])\n",
        "  return newMatrix"
      ],
      "execution_count": 1,
      "outputs": []
    },
    {
      "cell_type": "markdown",
      "metadata": {
        "id": "AHRJdu94aIB2"
      },
      "source": [
        "# Direct Method "
      ]
    },
    {
      "cell_type": "code",
      "metadata": {
        "id": "TCvT_p9TZ-IW"
      },
      "source": [
        "def createRow(x,y,n):\n",
        "  array = []\n",
        "  for i in range(n):\n",
        "    array.append(x**i)\n",
        "  array.append(y)\n",
        "  return array"
      ],
      "execution_count": 232,
      "outputs": []
    },
    {
      "cell_type": "code",
      "metadata": {
        "colab": {
          "base_uri": "https://localhost:8080/"
        },
        "id": "fxumYWfkd9X2",
        "outputId": "46194161-7a36-4892-d01a-bd17b9ace883"
      },
      "source": [
        "createRow(2,5,4)"
      ],
      "execution_count": 233,
      "outputs": [
        {
          "output_type": "execute_result",
          "data": {
            "text/plain": [
              "[1, 2, 4, 8, 5]"
            ]
          },
          "metadata": {
            "tags": []
          },
          "execution_count": 233
        }
      ]
    },
    {
      "cell_type": "code",
      "metadata": {
        "colab": {
          "base_uri": "https://localhost:8080/"
        },
        "id": "PZWVGHTXdTy8",
        "outputId": "5c7e63a6-abd0-4165-910f-9e6dde14b7f5"
      },
      "source": [
        "data =[[3,8],[5,9],[1,1],[7,10],[2,5]]\n",
        "data"
      ],
      "execution_count": 252,
      "outputs": [
        {
          "output_type": "execute_result",
          "data": {
            "text/plain": [
              "[[3, 8], [5, 9], [1, 1], [7, 10], [2, 5]]"
            ]
          },
          "metadata": {
            "tags": []
          },
          "execution_count": 252
        }
      ]
    },
    {
      "cell_type": "code",
      "metadata": {
        "id": "xb1yjVNZbRTK"
      },
      "source": [
        "def createMatrix(data):\n",
        "  matrix = []\n",
        "  order = len(data)\n",
        "  for i in range(len(data)):\n",
        "    matrix.append(createRow(data[i][0],data[i][1],order))\n",
        "  return np.array(matrix)\n"
      ],
      "execution_count": 253,
      "outputs": []
    },
    {
      "cell_type": "code",
      "metadata": {
        "colab": {
          "base_uri": "https://localhost:8080/"
        },
        "id": "BZKw1HAkdZNz",
        "outputId": "7e7f7f1f-b4aa-4feb-c711-d31a881b9398"
      },
      "source": [
        "createMatrix(data)"
      ],
      "execution_count": 254,
      "outputs": [
        {
          "output_type": "execute_result",
          "data": {
            "text/plain": [
              "array([[   1,    3,    9,   27,   81,    8],\n",
              "       [   1,    5,   25,  125,  625,    9],\n",
              "       [   1,    1,    1,    1,    1,    1],\n",
              "       [   1,    7,   49,  343, 2401,   10],\n",
              "       [   1,    2,    4,    8,   16,    5]])"
            ]
          },
          "metadata": {
            "tags": []
          },
          "execution_count": 254
        }
      ]
    },
    {
      "cell_type": "code",
      "metadata": {
        "colab": {
          "base_uri": "https://localhost:8080/",
          "height": 37
        },
        "id": "DlIidVq9efuq",
        "outputId": "3b192134-8a79-480a-8758-bf2d3ca29327"
      },
      "source": [
        "x=gaussJordan(createMatrix(data))[:,-1]\n",
        "string = ''\n",
        "for i in range(len(x)):\n",
        "  coef = gaussJordan(createMatrix(data))[i,-1]\n",
        "  if coef >=0:\n",
        "    coef='+{}'.format(coef)\n",
        "  if i > 1:\n",
        "    i=r'x^{}'.format(i)\n",
        "  if i ==1:\n",
        "    i=r'x'.format(i)\n",
        "  string = string + '{}'.format(coef) + r'{}'.format(i)\n",
        "\n",
        "string\n",
        "#made it better but i cant get rid of that leading +"
      ],
      "execution_count": 255,
      "outputs": [
        {
          "output_type": "execute_result",
          "data": {
            "application/vnd.google.colaboratory.intrinsic+json": {
              "type": "string"
            },
            "text/plain": [
              "'-2.250+2.041666666666667x+1.708333333333333x^2-0.5416666666666666x^3+0.041666666666666664x^4'"
            ]
          },
          "metadata": {
            "tags": []
          },
          "execution_count": 255
        }
      ]
    },
    {
      "cell_type": "code",
      "metadata": {
        "id": "-EEgSFk5pN9r"
      },
      "source": [
        "def directSpline(data, variable):\n",
        "  coefficients = gaussJordan(createMatrix(data))[:,-1]\n",
        "  value = 0\n",
        "  for i in range(len(coefficients)):\n",
        "    value = value + coefficients[i]*variable**i\n",
        "  return value"
      ],
      "execution_count": 256,
      "outputs": []
    },
    {
      "cell_type": "code",
      "metadata": {
        "colab": {
          "base_uri": "https://localhost:8080/"
        },
        "id": "Goxy_miApfFq",
        "outputId": "1f2a5141-a5b4-46e2-bdfe-0d8cdc1a7837"
      },
      "source": [
        "directSpline(data,2)"
      ],
      "execution_count": 257,
      "outputs": [
        {
          "output_type": "execute_result",
          "data": {
            "text/plain": [
              "5.0"
            ]
          },
          "metadata": {
            "tags": []
          },
          "execution_count": 257
        }
      ]
    },
    {
      "cell_type": "code",
      "metadata": {
        "colab": {
          "base_uri": "https://localhost:8080/",
          "height": 281
        },
        "id": "ciO-ZR6Cponm",
        "outputId": "bf315ebc-ba85-4493-ed1a-819096a19738"
      },
      "source": [
        "import matplotlib.pyplot as plt\n",
        "\n",
        "\n",
        "x = np.arange( 0,10,.1)\n",
        "plt.scatter(np.array(data)[:,0],np.array(data)[:,1])\n",
        "plt.plot(x,directSpline(data,x))\n",
        "plt.plot(x, np.cos(x))\n",
        "plt.title('Graph of Direct Spline')\n",
        "\n",
        "\n",
        "plt.show()"
      ],
      "execution_count": 258,
      "outputs": [
        {
          "output_type": "display_data",
          "data": {
            "image/png": "[encoded data removed]",
            "text/plain": [
              "<Figure size 432x288 with 1 Axes>"
            ]
          },
          "metadata": {
            "tags": [],
            "needs_background": "light"
          }
        }
      ]
    },
    {
      "cell_type": "code",
      "metadata": {
        "id": "CuTLt0E9p3g9"
      },
      "source": [
        "def divideIntervalEvenly(function,lower,upper,numberOfDivisions):\n",
        "  deltax = (upper - lower)/(numberOfDivisions - 1)\n",
        "  array = []\n",
        "  for i in range(numberOfDivisions):\n",
        "    array.append([lower + i*deltax,function(lower + i*deltax)])\n",
        "  return np.array(array)\n",
        "\n",
        "fivepoints = divideIntervalEvenly(np.cos,0,2*np.pi,5)"
      ],
      "execution_count": 262,
      "outputs": []
    },
    {
      "cell_type": "code",
      "metadata": {
        "id": "m2M-i24Kqnwl"
      },
      "source": [
        "def slope(pointInitial,pointFinal):\n",
        "  return (pointFinal[1]-pointInitial[1])/(pointFinal[0]-pointInitial[0])"
      ],
      "execution_count": 263,
      "outputs": []
    },
    {
      "cell_type": "code",
      "metadata": {
        "id": "qcdmpKQdqoyT"
      },
      "source": [
        "def linerSpline(array,input):\n",
        "  x = array[:,0]\n",
        "  y = array[:,1]\n",
        "  for i in range(len(x)-1):\n",
        "    if (x[i]< input) & (input < x[i+1]):\n",
        "      return y[i]+ slope(array[i,:],array[i+1,:])*(input - x[i])\n",
        "    else:\n",
        "      continue"
      ],
      "execution_count": 264,
      "outputs": []
    },
    {
      "cell_type": "code",
      "metadata": {
        "colab": {
          "base_uri": "https://localhost:8080/"
        },
        "id": "NA0GDV7IqssL",
        "outputId": "02d951b5-2a77-468a-d819-a94bfb4542be"
      },
      "source": [
        "linerSpline(fivepoints,1)"
      ],
      "execution_count": 265,
      "outputs": [
        {
          "output_type": "execute_result",
          "data": {
            "text/plain": [
              "0.36338022763241873"
            ]
          },
          "metadata": {
            "tags": []
          },
          "execution_count": 265
        }
      ]
    },
    {
      "cell_type": "code",
      "metadata": {
        "id": "7qfwEtbWqzuo"
      },
      "source": [
        "x = np.arange(0,7,0.1)\n",
        "y = [linerSpline(fivepoints,x) for x in x]"
      ],
      "execution_count": 266,
      "outputs": []
    },
    {
      "cell_type": "code",
      "metadata": {
        "colab": {
          "base_uri": "https://localhost:8080/",
          "height": 281
        },
        "id": "pEE2AuVLq5sE",
        "outputId": "da518291-e931-487e-c2f9-f32e08eb952c"
      },
      "source": [
        "x = np.arange(0,7,0.1)\n",
        "\n",
        "plt.scatter(fivepoints[:,0],fivepoints[:,1])\n",
        "plt.plot(x,y)\n",
        "plt.plot(x, np.cos(x))\n",
        "plt.title('Graph of Linear Spline with 5 Points')\n",
        "plt.legend(['Spline','Cos'])\n",
        "\n",
        "\n",
        "plt.show()"
      ],
      "execution_count": 267,
      "outputs": [
        {
          "output_type": "display_data",
          "data": {
            "image/png": "[encoded data removed]",
            "text/plain": [
              "<Figure size 432x288 with 1 Axes>"
            ]
          },
          "metadata": {
            "tags": [],
            "needs_background": "light"
          }
        }
      ]
    },
    {
      "cell_type": "code",
      "metadata": {
        "colab": {
          "base_uri": "https://localhost:8080/",
          "height": 281
        },
        "id": "EkeoX_KbrDW6",
        "outputId": "c0bf4bdd-2973-4dfb-8922-5aeca844d901"
      },
      "source": [
        "twentypoints = divideIntervalEvenly(np.cos,0,2*np.pi,20)\n",
        "x = np.arange(-1,7,0.1)\n",
        "y = [linerSpline(twentypoints,x) for x in x]\n",
        "plt.scatter(twentypoints[:,0],twentypoints[:,1])\n",
        "plt.plot(x,y)\n",
        "plt.plot(x, np.cos(x))\n",
        "plt.title('Graph of Linear Spline with 20 Points')\n",
        "plt.legend(['Spline','Cos'])\n",
        "\n",
        "\n",
        "plt.show()"
      ],
      "execution_count": 207,
      "outputs": [
        {
          "output_type": "display_data",
          "data": {
            "image/png": "[encoded data removed]",
            "text/plain": [
              "<Figure size 432x288 with 1 Axes>"
            ]
          },
          "metadata": {
            "tags": [],
            "needs_background": "light"
          }
        }
      ]
    }
  ]
}