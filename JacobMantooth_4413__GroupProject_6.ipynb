{
  "nbformat": 4,
  "nbformat_minor": 0,
  "metadata": {
    "colab": {
      "name": "JacobMantooth_4413__GroupProject_6.ipynb",
      "provenance": [],
      "collapsed_sections": [],
      "authorship_tag": "ABX9TyOaCbOQs4fz+9d4WQCe1+sz",
      "include_colab_link": true
    },
    "kernelspec": {
      "name": "python3",
      "display_name": "Python 3"
    }
  },
  "cells": [
    {
      "cell_type": "markdown",
      "metadata": {
        "id": "view-in-github",
        "colab_type": "text"
      },
      "source": [
        "<a href=\"https://colab.research.google.com/github/jacmantooth/groupproject/blob/main/JacobMantooth_4413__GroupProject_6.ipynb\" target=\"_parent\"><img src=\"https://colab.research.google.com/assets/colab-badge.svg\" alt=\"Open In Colab\"/></a>"
      ]
    },
    {
      "cell_type": "markdown",
      "metadata": {
        "id": "B3Ra_g-zykXb"
      },
      "source": [
        "# **Project Module 6: Regression**\n",
        "\n",
        "\n",
        "<strong>Sunil Lama<br>\n",
        "Jacob Mantooth<br>\n",
        "Puran Subedi<br>\n",
        "Riwaz Gyawali<br>\n",
        "Instructor: Dr. Nicholas Jacob<br>\n",
        "Numerical Analysis\n",
        "<strong># Project Module 6: Regression"
      ]
    },
    {
      "cell_type": "markdown",
      "metadata": {
        "id": "jwt-VCwYyok-"
      },
      "source": [
        "# Part 1: Linear Regression"
      ]
    },
    {
      "cell_type": "markdown",
      "metadata": {
        "id": "3Zr-KgJ-yq2w"
      },
      "source": [
        "# Part 1a: Finding a Dataset"
      ]
    },
    {
      "cell_type": "markdown",
      "metadata": {
        "id": "QN9Nww0Qy2xw"
      },
      "source": [
        "We were told to find data set with at least two quantitative variables and 100 entries. we decided to find our own data set to work with instead of using Dr.Jacobs dataset. we decied to use NCAA College Football passing stats that can be found here : https://www.ncaa.com/stats/football/fbs/current/individual/453 We took that data set and upload it to github so we directly load it from  github using the Raw url and pandas function pandas.read csv(‘url’)."
      ]
    },
    {
      "cell_type": "code",
      "metadata": {
        "colab": {
          "base_uri": "https://localhost:8080/",
          "height": 204
        },
        "id": "Zc9IqpXUyaQp",
        "outputId": "9e9901de-acf3-4a73-ffd7-ab747535be28"
      },
      "source": [
        "import pandas\n",
        "import numpy as np\n",
        "from scipy import stats\n",
        "import matplotlib.pyplot as plt\n",
        "import pandas as pa\n",
        "import scipy.linalg as la\n",
        "\n",
        "data = pandas.read_csv(\"https://raw.githubusercontent.com/jacmantooth/groupproject/main/passing%20college.csv\")\n",
        "data.head()\n",
        "#using the head function i want to show what our data looks like without loading all of it "
      ],
      "execution_count": 1,
      "outputs": [
        {
          "output_type": "execute_result",
          "data": {
            "text/html": [
              "<div>\n",
              "<style scoped>\n",
              "    .dataframe tbody tr th:only-of-type {\n",
              "        vertical-align: middle;\n",
              "    }\n",
              "\n",
              "    .dataframe tbody tr th {\n",
              "        vertical-align: top;\n",
              "    }\n",
              "\n",
              "    .dataframe thead th {\n",
              "        text-align: right;\n",
              "    }\n",
              "</style>\n",
              "<table border=\"1\" class=\"dataframe\">\n",
              "  <thead>\n",
              "    <tr style=\"text-align: right;\">\n",
              "      <th></th>\n",
              "      <th>RANK</th>\n",
              "      <th>NAME</th>\n",
              "      <th>TEAM</th>\n",
              "      <th>CL</th>\n",
              "      <th>POSITION</th>\n",
              "      <th>G</th>\n",
              "      <th>PASS ATT</th>\n",
              "      <th>PASS COM</th>\n",
              "      <th>INT</th>\n",
              "      <th>PASS TD</th>\n",
              "      <th>PASS YDS</th>\n",
              "    </tr>\n",
              "  </thead>\n",
              "  <tbody>\n",
              "    <tr>\n",
              "      <th>0</th>\n",
              "      <td>1</td>\n",
              "      <td>Mac Jones</td>\n",
              "      <td>Alabama</td>\n",
              "      <td>Jr.</td>\n",
              "      <td>QB</td>\n",
              "      <td>13</td>\n",
              "      <td>402</td>\n",
              "      <td>311</td>\n",
              "      <td>4</td>\n",
              "      <td>41</td>\n",
              "      <td>4500</td>\n",
              "    </tr>\n",
              "    <tr>\n",
              "      <th>1</th>\n",
              "      <td>2</td>\n",
              "      <td>Kyle Trask</td>\n",
              "      <td>Florida</td>\n",
              "      <td>Sr.</td>\n",
              "      <td>QB</td>\n",
              "      <td>12</td>\n",
              "      <td>437</td>\n",
              "      <td>301</td>\n",
              "      <td>8</td>\n",
              "      <td>43</td>\n",
              "      <td>4283</td>\n",
              "    </tr>\n",
              "    <tr>\n",
              "      <th>2</th>\n",
              "      <td>3</td>\n",
              "      <td>Zach Wilson</td>\n",
              "      <td>BYU</td>\n",
              "      <td>Jr.</td>\n",
              "      <td>QB</td>\n",
              "      <td>12</td>\n",
              "      <td>336</td>\n",
              "      <td>247</td>\n",
              "      <td>3</td>\n",
              "      <td>33</td>\n",
              "      <td>3692</td>\n",
              "    </tr>\n",
              "    <tr>\n",
              "      <th>3</th>\n",
              "      <td>4</td>\n",
              "      <td>Sam Howell</td>\n",
              "      <td>North Carolina</td>\n",
              "      <td>So.</td>\n",
              "      <td>QB</td>\n",
              "      <td>12</td>\n",
              "      <td>348</td>\n",
              "      <td>237</td>\n",
              "      <td>7</td>\n",
              "      <td>30</td>\n",
              "      <td>3586</td>\n",
              "    </tr>\n",
              "    <tr>\n",
              "      <th>4</th>\n",
              "      <td>5</td>\n",
              "      <td>Dillon Gabriel</td>\n",
              "      <td>UCF</td>\n",
              "      <td>So.</td>\n",
              "      <td>QB</td>\n",
              "      <td>10</td>\n",
              "      <td>413</td>\n",
              "      <td>248</td>\n",
              "      <td>4</td>\n",
              "      <td>32</td>\n",
              "      <td>3570</td>\n",
              "    </tr>\n",
              "  </tbody>\n",
              "</table>\n",
              "</div>"
            ],
            "text/plain": [
              "   RANK            NAME            TEAM   CL  ... PASS COM  INT  PASS TD  PASS YDS\n",
              "0     1       Mac Jones         Alabama  Jr.  ...      311    4       41      4500\n",
              "1     2      Kyle Trask         Florida  Sr.  ...      301    8       43      4283\n",
              "2     3     Zach Wilson             BYU  Jr.  ...      247    3       33      3692\n",
              "3     4      Sam Howell  North Carolina  So.  ...      237    7       30      3586\n",
              "4     5  Dillon Gabriel             UCF  So.  ...      248    4       32      3570\n",
              "\n",
              "[5 rows x 11 columns]"
            ]
          },
          "metadata": {
            "tags": []
          },
          "execution_count": 1
        }
      ]
    },
    {
      "cell_type": "markdown",
      "metadata": {
        "id": "5c0hy_4f1koB"
      },
      "source": [
        "as you can see our data set is alright and it has alot of info to work with"
      ]
    },
    {
      "cell_type": "markdown",
      "metadata": {
        "id": "_y1yJB1z1p8n"
      },
      "source": [
        "## Part 1B: linear regression and computing predictions"
      ]
    },
    {
      "cell_type": "markdown",
      "metadata": {
        "id": "Tx4gimBs118a"
      },
      "source": [
        "In this part we are tesked to preform linear regression and create a function for computing predictions using the regression."
      ]
    },
    {
      "cell_type": "markdown",
      "metadata": {
        "id": "_1e3eyaps9va"
      },
      "source": [
        "First we went through our varibles and graphed them to find one that looked linear. we decide to use Rank and Pass com since it looked the most linear"
      ]
    },
    {
      "cell_type": "code",
      "metadata": {
        "id": "3fNCWGqAbZA0"
      },
      "source": [
        "#since we will be using these alot we will just make them shorter \n",
        "rank = data[\"RANK\"]\n",
        "#rank is what rank is the qb and it is based on 1-100\n",
        "passcom = data[\"PASS COM\"]\n",
        "#passcom is how many passes were completed "
      ],
      "execution_count": 46,
      "outputs": []
    },
    {
      "cell_type": "code",
      "metadata": {
        "colab": {
          "base_uri": "https://localhost:8080/",
          "height": 312
        },
        "id": "3otPQqcd2asY",
        "outputId": "7642a78e-4ebe-4905-e33c-2d992a63a09f"
      },
      "source": [
        "plt.scatter(rank,passcom)\n",
        "plt.title('Rank over Pass com')\n",
        "plt.xlabel('RANK')\n",
        "plt.ylabel('PASS COM')\n"
      ],
      "execution_count": 47,
      "outputs": [
        {
          "output_type": "execute_result",
          "data": {
            "text/plain": [
              "Text(0, 0.5, 'PASS COM')"
            ]
          },
          "metadata": {
            "tags": []
          },
          "execution_count": 47
        },
        {
          "output_type": "display_data",
          "data": {
            "image/png": "[encoded data removed]",
            "text/plain": [
              "<Figure size 432x288 with 1 Axes>"
            ]
          },
          "metadata": {
            "tags": [],
            "needs_background": "light"
          }
        }
      ]
    },
    {
      "cell_type": "markdown",
      "metadata": {
        "id": "KaJF94mAtkLb"
      },
      "source": [
        "As you can see our graph is pretty linear, so our two varibles will work "
      ]
    },
    {
      "cell_type": "markdown",
      "metadata": {
        "id": "P6wYlI2nwaV9"
      },
      "source": [
        "we will be doing this by hand, we want to note that for a regression of the form, $\\hat y = a_0+a_1 x$ \n",
        "\n",
        "$$\n",
        "a_1=\\frac{\\sum x_i y_i -n \\bar x \\bar y}{\\sum x_i^2 - n\\bar x ^2}\n",
        "$$\n",
        "and\n",
        "$$\n",
        "a_0 = \\bar y - a_1 \\bar x\n",
        "$$"
      ]
    },
    {
      "cell_type": "code",
      "metadata": {
        "id": "ae0Su7YUj5t-"
      },
      "source": [
        "\n",
        "def sumation(Data):\n",
        "  total = 0\n",
        "  for i in Data:\n",
        "    total += i\n",
        "  return total\n",
        "#the sumation of the data\n",
        "def squaresum(Data1,Data2):\n",
        "  total = 0\n",
        "  for i in range(len(Data1)):\n",
        "    total += Data1[i]*Data2[i]\n",
        "  return total\n",
        "#the sumation of the data times each other\n",
        "\n",
        "def RegressionFormula(variable,slope, intercept):\n",
        "   return variable*slope+intercept\n",
        "  #the regression formula to get the y after you plug in the x,a1, and a0"
      ],
      "execution_count": 48,
      "outputs": []
    },
    {
      "cell_type": "code",
      "metadata": {
        "id": "9UC1NsvKj8MX"
      },
      "source": [
        "n = len(rank)\n",
        "xbar = sumation(rank)/n\n",
        "ybar = sumation(passcom)/n\n",
        "xy = squaresum(rank,passcom)\n",
        "xx = squaresum(rank,rank)\n",
        "\n",
        "a1 = (xy-n*xbar*ybar)/(xx-n*xbar**2)\n",
        "a0 = ybar - a1*xbar\n",
        "#this function will get us our a0 and a1 "
      ],
      "execution_count": 49,
      "outputs": []
    },
    {
      "cell_type": "code",
      "metadata": {
        "colab": {
          "base_uri": "https://localhost:8080/"
        },
        "id": "0Jgj_UQekMSW",
        "outputId": "2c7e4b1a-3c03-4a7a-d730-1cc7ebf6c707"
      },
      "source": [
        "print(a1)\n",
        "a0\n",
        "#our a1 and a0"
      ],
      "execution_count": 50,
      "outputs": [
        {
          "output_type": "stream",
          "text": [
            "-1.704962496249625\n"
          ],
          "name": "stdout"
        },
        {
          "output_type": "execute_result",
          "data": {
            "text/plain": [
              "243.70060606060605"
            ]
          },
          "metadata": {
            "tags": []
          },
          "execution_count": 50
        }
      ]
    },
    {
      "cell_type": "markdown",
      "metadata": {
        "id": "m3xLb5nfw0Nt"
      },
      "source": [
        "so our $\\hat y = a_0+a_1 x$ is \n",
        "$$\n",
        "\\hat y = 243.70060606060605-1.704962496249625x\n",
        "$$"
      ]
    },
    {
      "cell_type": "markdown",
      "metadata": {
        "id": "CF-NPueQxkKc"
      },
      "source": [
        "we will now want to create a function for computing predictions using the regression."
      ]
    },
    {
      "cell_type": "code",
      "metadata": {
        "id": "X_bAoXWQkbI4"
      },
      "source": [
        "m = stats.linregress(rank,passcom)[0]\n",
        "b = stats.linregress(rank,passcom)[1]\n",
        "#these two function get us our m and b \n",
        "#the next function get us the y after you plug in a x \n",
        "def y(x):\n",
        "    return(m*x+b)\n"
      ],
      "execution_count": 51,
      "outputs": []
    },
    {
      "cell_type": "markdown",
      "metadata": {
        "id": "oAJoeC4bx3T2"
      },
      "source": [
        "let say a random quaterback was rank 5 what would the quaterback passing comp look like"
      ]
    },
    {
      "cell_type": "code",
      "metadata": {
        "colab": {
          "base_uri": "https://localhost:8080/"
        },
        "id": "prf-Tt6ykhW7",
        "outputId": "81bf5340-ffe7-484a-a101-690f4634b85d"
      },
      "source": [
        "#lets use both function to see if we get the same answer \n",
        "print(y(5))\n",
        "RegressionFormula(5,a1,a0)\n"
      ],
      "execution_count": 52,
      "outputs": [
        {
          "output_type": "stream",
          "text": [
            "235.17579357935793\n"
          ],
          "name": "stdout"
        },
        {
          "output_type": "execute_result",
          "data": {
            "text/plain": [
              "235.17579357935793"
            ]
          },
          "metadata": {
            "tags": []
          },
          "execution_count": 52
        }
      ]
    },
    {
      "cell_type": "markdown",
      "metadata": {
        "id": "rF3BGAQRyJ-I"
      },
      "source": [
        "looks like both of our function got the same answer. It is predicted that this ranked 5 quarterback would have 235 passing attempts "
      ]
    },
    {
      "cell_type": "markdown",
      "metadata": {
        "id": "57J0p8iZzWtC"
      },
      "source": [
        "## Part 1C:  Compute the sum of the squares error for the predictions."
      ]
    },
    {
      "cell_type": "code",
      "metadata": {
        "colab": {
          "base_uri": "https://localhost:8080/"
        },
        "id": "wlushaPPzdfM",
        "outputId": "113165d4-d6c5-486c-8add-2680f06ccd36"
      },
      "source": [
        "s = 0\n",
        "for i in range (0,len(rank)):\n",
        "    s = s+y(rank[i])-passcom[i]\n",
        "s"
      ],
      "execution_count": 53,
      "outputs": [
        {
          "output_type": "execute_result",
          "data": {
            "text/plain": [
              "-2.7569058147491887e-12"
            ]
          },
          "metadata": {
            "tags": []
          },
          "execution_count": 53
        }
      ]
    },
    {
      "cell_type": "code",
      "metadata": {
        "colab": {
          "base_uri": "https://localhost:8080/"
        },
        "id": "4tqEt-SNzoga",
        "outputId": "6c2437df-402f-449d-c067-59367cff16ee"
      },
      "source": [
        "ss = 0\n",
        "for i in range (0,len(rank)):\n",
        "    ss = ss+(y(rank[i])-passcom[i])**2\n",
        "ss"
      ],
      "execution_count": 54,
      "outputs": [
        {
          "output_type": "execute_result",
          "data": {
            "text/plain": [
              "49150.7980078008"
            ]
          },
          "metadata": {
            "tags": []
          },
          "execution_count": 54
        }
      ]
    },
    {
      "cell_type": "markdown",
      "metadata": {
        "id": "kDYzfztAyjkl"
      },
      "source": [
        "## Part 1D:  Graph the data points and the linear regression together"
      ]
    },
    {
      "cell_type": "markdown",
      "metadata": {
        "id": "EKoKPauTysSP"
      },
      "source": [
        "we will now graph our data points and put our linear regression through it "
      ]
    },
    {
      "cell_type": "code",
      "metadata": {
        "colab": {
          "base_uri": "https://localhost:8080/",
          "height": 312
        },
        "id": "bacpVcdjkkPR",
        "outputId": "446f4525-c0b3-4d7f-8adb-c27471fef23d"
      },
      "source": [
        "x = np.arange( 0,100,1)\n",
        "plt.scatter(rank,passcom)\n",
        "plt.plot(x,y(x))\n",
        "plt.title('Rank over Pass com')\n",
        "plt.xlabel('RANK')\n",
        "plt.ylabel('PASS COM')"
      ],
      "execution_count": 61,
      "outputs": [
        {
          "output_type": "execute_result",
          "data": {
            "text/plain": [
              "Text(0, 0.5, 'PASS COM')"
            ]
          },
          "metadata": {
            "tags": []
          },
          "execution_count": 61
        },
        {
          "output_type": "display_data",
          "data": {
            "image/png": "[encoded data removed]",
            "text/plain": [
              "<Figure size 432x288 with 1 Axes>"
            ]
          },
          "metadata": {
            "tags": [],
            "needs_background": "light"
          }
        }
      ]
    },
    {
      "cell_type": "markdown",
      "metadata": {
        "id": "ZREn_8xMz60X"
      },
      "source": [
        "# Part 2: NonLinear Regression"
      ]
    },
    {
      "cell_type": "markdown",
      "metadata": {
        "id": "yHqEJOER0p4p"
      },
      "source": [
        "## Part 2A:  Find two data columns that show a nonlinear relationship. Hypothesize what that relationship is."
      ]
    },
    {
      "cell_type": "markdown",
      "metadata": {
        "id": "AEji5fvC01Bd"
      },
      "source": [
        "after some testing with our data we finally found two data columns that show a nonlinear relationship. we have chosen Pass attempts as our first column and Pass yards as our second. what passing attempts is how many passes did that quaterback make and Pass yards is how many yards did that quaterback get passing the ball"
      ]
    },
    {
      "cell_type": "code",
      "metadata": {
        "id": "0UcwkUd5eTyx"
      },
      "source": [
        "passatt = data[\"PASS ATT\"]\n",
        "passyrds = data[\"PASS YDS\"]"
      ],
      "execution_count": 56,
      "outputs": []
    },
    {
      "cell_type": "code",
      "metadata": {
        "colab": {
          "base_uri": "https://localhost:8080/",
          "height": 312
        },
        "id": "cUpaGjuPsfFf",
        "outputId": "6d8e579a-7616-43de-a082-f22ed7082d18"
      },
      "source": [
        "plt.scatter(passatt,passyrds)\n",
        "plt.title('Rank over PASS YDS')\n",
        "plt.xlabel('PASS ATT')\n",
        "plt.ylabel('PASS YDS')"
      ],
      "execution_count": 62,
      "outputs": [
        {
          "output_type": "execute_result",
          "data": {
            "text/plain": [
              "Text(0, 0.5, 'PASS YDS')"
            ]
          },
          "metadata": {
            "tags": []
          },
          "execution_count": 62
        },
        {
          "output_type": "display_data",
          "data": {
            "image/png": "[encoded data removed]",
            "text/plain": [
              "<Figure size 432x288 with 1 Axes>"
            ]
          },
          "metadata": {
            "tags": [],
            "needs_background": "light"
          }
        }
      ]
    },
    {
      "cell_type": "markdown",
      "metadata": {
        "id": "EYFPXVfK1B7g"
      },
      "source": [
        "we will now hypothesize what that relationship is. we thought as a group that this mean the more you attempt to throw the ball the more yards youll have"
      ]
    },
    {
      "cell_type": "markdown",
      "metadata": {
        "id": "MNkopp6T2JZ5"
      },
      "source": [
        "## Part 2B: Following the method outlined in the text, fit the regression to your data.\n"
      ]
    },
    {
      "cell_type": "markdown",
      "metadata": {
        "id": "7tnvlnqNCFEr"
      },
      "source": [
        "First I will follow the example in the text.  I will attempt to fit a quadratic to the data.  The text shows that we should solve a system of equations \n",
        "$$\n",
        "\\left[\n",
        "\\begin{array}{ccc|c}\n",
        "n& \\sum x_i&\\sum x_i^2&\\sum y_i\\\\\n",
        "\\sum x_i&\\sum x_i^2&\\sum x_i^3&\\sum x_i y_i\\\\\n",
        "\\sum x_i^2 &\\sum x_i^3&\\sum x_i^4&\\sum x_i^2 y_i\n",
        "\\end{array}\n",
        "\\right]\n",
        "$$\n",
        "To get the $a_0$, $a_1$, and $a_2$ that will minimize the least squares and return\n",
        "$$\n",
        "\\hat y = a_0+a_1 x+a_2 x^2\n",
        "$$\n",
        "\n",
        "I need some data that this makes sense to do with."
      ]
    },
    {
      "cell_type": "code",
      "metadata": {
        "id": "zTRbzrvCst49"
      },
      "source": [
        "x = sumation(passatt)\n",
        "x2 = squaresum(passatt,passatt)\n",
        "x3 = squaresum(passatt**2,passatt)\n",
        "x4 = squaresum(passatt**3,passatt)\n",
        "\n",
        "matrix = [[n,x,x2,sumation(passyrds)]\n",
        "          ,[x,x2,x3,squaresum(passatt,passyrds)]\n",
        "          ,[x2,x3,x4,squaresum(passatt**2,passyrds)]\n",
        "          ]"
      ],
      "execution_count": 58,
      "outputs": []
    },
    {
      "cell_type": "markdown",
      "metadata": {
        "id": "YT3pn24aMUCK"
      },
      "source": [
        "We will now import our code form project part 4"
      ]
    },
    {
      "cell_type": "code",
      "metadata": {
        "id": "NnELc3QNtEFT"
      },
      "source": [
        "\n",
        "def add(matrix,row2,row,contant):\n",
        "  newrow=matrix[row2,:]+contant*matrix[row,:]\n",
        "  newMatrix = []\n",
        "  for i in range(len(matrix)):\n",
        "    if i != row2:\n",
        "      newMatrix.append(matrix[i,:])\n",
        "    else:\n",
        "      newMatrix.append(newrow)\n",
        "  return np.array(newMatrix)\n",
        "\n",
        "\n",
        "def leadone(matrix,row,column):\n",
        "  newrow=matrix[row,:]/matrix[row,column]\n",
        "  newMatrix = []\n",
        "  for i in range(len(matrix)):\n",
        "    if i != row:\n",
        "      newMatrix.append(matrix[i,:])\n",
        "    else:\n",
        "      newMatrix.append(newrow)\n",
        "  return np.array(newMatrix)\n",
        "\n",
        "def gaussJordan(matrix):\n",
        "  newMatrix = matrix\n",
        "  for pivot in range(len(matrix)):\n",
        "    newMatrix = leadone(newMatrix,pivot,pivot)\n",
        "    for column in range(0,pivot):\n",
        "      newMatrix = add(newMatrix,column,pivot,-newMatrix[column,pivot])\n",
        "    for column in range(pivot+1,len(matrix)):\n",
        "        newMatrix = add(newMatrix,column,pivot,-newMatrix[column,pivot])\n",
        "  return newMatrix\n",
        "#nothing new here"
      ],
      "execution_count": 59,
      "outputs": []
    },
    {
      "cell_type": "code",
      "metadata": {
        "colab": {
          "base_uri": "https://localhost:8080/"
        },
        "id": "HPQvBQLftHZl",
        "outputId": "51fdc830-c498-4b27-f90b-ab8bbf20c85c"
      },
      "source": [
        "gaussJordan(np.array(matrix))\n",
        "#using our gaussJordan function to get our equation"
      ],
      "execution_count": 60,
      "outputs": [
        {
          "output_type": "execute_result",
          "data": {
            "text/plain": [
              "array([[ 1.00000000e+00,  0.00000000e+00,  0.00000000e+00,\n",
              "         9.92546974e+02],\n",
              "       [ 0.00000000e+00,  1.00000000e+00,  0.00000000e+00,\n",
              "        -1.32065083e+00],\n",
              "       [ 0.00000000e+00,  0.00000000e+00,  1.00000000e+00,\n",
              "         1.88474232e-02]])"
            ]
          },
          "metadata": {
            "tags": []
          },
          "execution_count": 60
        }
      ]
    },
    {
      "cell_type": "markdown",
      "metadata": {
        "id": "mjdpmiZd3cQZ"
      },
      "source": [
        " our equation will be \n",
        "$$\n",
        "\\hat y = 992.546974-1.32065083 x +.0188474232 x^2\n",
        "$$"
      ]
    },
    {
      "cell_type": "markdown",
      "metadata": {
        "id": "cmjkwdzL3Kjn"
      },
      "source": [
        "## Part 2C: Graph the data and the regression in the same window."
      ]
    },
    {
      "cell_type": "code",
      "metadata": {
        "colab": {
          "base_uri": "https://localhost:8080/",
          "height": 312
        },
        "id": "h9eTucdzteH5",
        "outputId": "21d57c9d-928a-46db-bc56-d18cd5fad3f0"
      },
      "source": [
        "x = np.arange( 0,450,1)\n",
        "plt.scatter(passatt,passyrds)\n",
        "plt.plot(x,992.546974-1.32065083 *x +.0188474232 *x**2)\n",
        "plt.title('Passing Yards over Passing Attempts')\n",
        "plt.xlabel('Passing Yards')\n",
        "plt.ylabel('Pass Attempts')"
      ],
      "execution_count": 45,
      "outputs": [
        {
          "output_type": "execute_result",
          "data": {
            "text/plain": [
              "Text(0, 0.5, 'Pass Attempts')"
            ]
          },
          "metadata": {
            "tags": []
          },
          "execution_count": 45
        },
        {
          "output_type": "display_data",
          "data": {
            "image/png": "[encoded data removed]",
            "text/plain": [
              "<Figure size 432x288 with 1 Axes>"
            ]
          },
          "metadata": {
            "tags": [],
            "needs_background": "light"
          }
        }
      ]
    }
  ]
}